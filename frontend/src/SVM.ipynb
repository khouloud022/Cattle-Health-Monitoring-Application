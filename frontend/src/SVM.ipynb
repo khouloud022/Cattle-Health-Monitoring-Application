{
 "cells": [
  {
   "cell_type": "code",
   "execution_count": 2,
   "id": "fa902fe4",
   "metadata": {},
   "outputs": [
    {
     "name": "stdout",
     "output_type": "stream",
     "text": [
      "Score SVM : 0.8593970132431671\n",
      "\n",
      "Rapport de classification :\n",
      "               precision    recall  f1-score   support\n",
      "\n",
      "           0       0.96      0.75      0.84      1794\n",
      "           1       0.79      0.97      0.87      1755\n",
      "\n",
      "    accuracy                           0.86      3549\n",
      "   macro avg       0.88      0.86      0.86      3549\n",
      "weighted avg       0.88      0.86      0.86      3549\n",
      "\n",
      "\n",
      "Matrice de confusion :\n",
      " [[1349  445]\n",
      " [  54 1701]]\n",
      "\n",
      "Distribution des classes :\n",
      " OK\n",
      "1    8898\n",
      "0    8846\n",
      "Name: count, dtype: int64\n",
      "✅ Modèle sauvegardé sous 'model.pkl'\n",
      "✅ Scaler sauvegardé sous 'scaler.pkl'\n"
     ]
    },
    {
     "name": "stderr",
     "output_type": "stream",
     "text": [
      "c:\\Users\\msi\\AppData\\Local\\Programs\\Python\\Python310\\lib\\site-packages\\sklearn\\utils\\validation.py:2739: UserWarning: X does not have valid feature names, but StandardScaler was fitted with feature names\n",
      "  warnings.warn(\n"
     ]
    },
    {
     "name": "stdout",
     "output_type": "stream",
     "text": [
      "\n",
      "✅ Accuracy avec le modèle chargé :                precision    recall  f1-score   support\n",
      "\n",
      "           0       1.00      0.64      0.78      1794\n",
      "           1       0.73      1.00      0.84      1755\n",
      "\n",
      "    accuracy                           0.82      3549\n",
      "   macro avg       0.87      0.82      0.81      3549\n",
      "weighted avg       0.87      0.82      0.81      3549\n",
      "\n",
      "\n",
      "🧮 Matrice de confusion avec le modèle chargé :\n",
      " [[1145  649]\n",
      " [   0 1755]]\n"
     ]
    }
   ],
   "source": [
    "import pandas as pd\n",
    "from sklearn.model_selection import train_test_split\n",
    "from sklearn.metrics import classification_report, confusion_matrix\n",
    "from sklearn.svm import SVC\n",
    "from sklearn.preprocessing import StandardScaler\n",
    "import joblib\n",
    "\n",
    "# Charger les données\n",
    "df = pd.read_csv('data.csv', encoding='latin-1')\n",
    "\n",
    "# Supprimer les colonnes non pertinentes\n",
    "df = df.drop(columns=['cow', 'date', 'hour', 'oestrus','calving','lameness','mastitis','other_disease','accidents','mixing','management_changes', 'acidosis'])\n",
    "\n",
    "# Remplacer les valeurs NA dans LPS par la moyenne\n",
    "df['LPS'] = df['LPS'].fillna(df['LPS'].mean())\n",
    "\n",
    "# Séparer X et y\n",
    "X = df.drop(columns=['OK'])\n",
    "y = df['OK']\n",
    "\n",
    "# Normaliser les données (important pour SVM)\n",
    "scaler = StandardScaler()\n",
    "X_scaled = scaler.fit_transform(X)\n",
    "\n",
    "# Diviser les données\n",
    "X_train, X_test, y_train, y_test = train_test_split(X_scaled, y, random_state=17, test_size=0.2)\n",
    "\n",
    "# Créer et entraîner le modèle SVM\n",
    "svm = SVC(kernel='rbf', C=1, gamma='scale')  # Tu peux aussi tester 'linear' ou 'poly' comme kernel\n",
    "svm.fit(X_train, y_train)\n",
    "\n",
    "# Prédire\n",
    "y_pred = svm.predict(X_test)\n",
    "\n",
    "# Afficher les métriques\n",
    "print(\"Score SVM :\", svm.score(X_test, y_test))\n",
    "print(\"\\nRapport de classification :\\n\", classification_report(y_test, y_pred))\n",
    "print(\"\\nMatrice de confusion :\\n\", confusion_matrix(y_test, y_pred))\n",
    "print(\"\\nDistribution des classes :\\n\", y.value_counts())\n",
    "\n",
    "# Sauvegarder le modèle entraîné\n",
    "joblib.dump(svm, 'svm_model.pkl')\n",
    "print(\"✅ Modèle sauvegardé sous 'model.pkl'\")\n",
    "\n",
    "# Sauvegarder le scaler pour les futures prédictions\n",
    "joblib.dump(scaler, 'scaler.pkl')\n",
    "print(\"✅ Scaler sauvegardé sous 'scaler.pkl'\")\n",
    "\n",
    "# Charger le modèle sauvegardé (pour test)\n",
    "loaded_model = joblib.load('svm_model.pkl')\n",
    "\n",
    "# Charger le scaler sauvegardé\n",
    "loaded_scaler = joblib.load('scaler.pkl')\n",
    "\n",
    "# Effectuer des prédictions avec le modèle chargé\n",
    "X_test_scaled = loaded_scaler.transform(X_test)  # Normaliser les données de test avant prédiction\n",
    "y_pred_loaded = loaded_model.predict(X_test_scaled)\n",
    "\n",
    "# Afficher les résultats avec le modèle chargé\n",
    "print(\"\\n✅ Accuracy avec le modèle chargé : \", classification_report(y_test, y_pred_loaded))\n",
    "print(\"\\n🧮 Matrice de confusion avec le modèle chargé :\\n\", confusion_matrix(y_test, y_pred_loaded))\n"
   ]
  }
 ],
 "metadata": {
  "kernelspec": {
   "display_name": "Python 3",
   "language": "python",
   "name": "python3"
  },
  "language_info": {
   "codemirror_mode": {
    "name": "ipython",
    "version": 3
   },
   "file_extension": ".py",
   "mimetype": "text/x-python",
   "name": "python",
   "nbconvert_exporter": "python",
   "pygments_lexer": "ipython3",
   "version": "3.10.11"
  }
 },
 "nbformat": 4,
 "nbformat_minor": 5
}
